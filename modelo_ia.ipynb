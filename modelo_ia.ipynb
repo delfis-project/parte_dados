{
 "cells": [
  {
   "cell_type": "markdown",
   "metadata": {},
   "source": [
    "### Importação"
   ]
  },
  {
   "cell_type": "code",
   "execution_count": null,
   "metadata": {},
   "outputs": [],
   "source": [
    "from sklearn.preprocessing import OrdinalEncoder\n",
    "from sklearn.compose import ColumnTransformer, make_column_selector\n",
    "import pandas as pd\n",
    "from sklearn.model_selection import train_test_split\n",
    "from sklearn.naive_bayes import GaussianNB\n",
    "from sklearn.metrics import classification_report\n",
    "from imblearn.over_sampling import SMOTE\n",
    "from sklearn import tree\n",
    "from sklearn.metrics import confusion_matrix\n",
    "from sklearn.model_selection import GridSearchCV\n",
    "import joblib\n",
    "from sklearn.neighbors import NearestNeighbors\n"
   ]
  },
  {
   "cell_type": "markdown",
   "metadata": {},
   "source": [
    "### Leitura do DF"
   ]
  },
  {
   "cell_type": "code",
   "execution_count": null,
   "metadata": {},
   "outputs": [],
   "source": [
    "df = pd.read_excel(\"Delfis! - Questionário.xlsx\", usecols='F:L')\n",
    "display(df)"
   ]
  },
  {
   "cell_type": "markdown",
   "metadata": {},
   "source": [
    "### Separação de resposta e atributo"
   ]
  },
  {
   "cell_type": "code",
   "execution_count": null,
   "metadata": {},
   "outputs": [],
   "source": [
    "\n",
    "resposta = pd.DataFrame(df['Você gostaria de utilizar o nosso aplicativo?'])\n",
    "display(resposta)\n",
    "\n",
    "atributo = df.drop(columns='Você gostaria de utilizar o nosso aplicativo?', axis=1)\n",
    "display(atributo)"
   ]
  },
  {
   "cell_type": "markdown",
   "metadata": {},
   "source": [
    "### Normalização de dados (para a serialização)"
   ]
  },
  {
   "cell_type": "code",
   "execution_count": null,
   "metadata": {},
   "outputs": [],
   "source": [
    "preprocessador = ColumnTransformer(transformers=[\n",
    "    ('categoricas', OrdinalEncoder(), make_column_selector(dtype_include=object))\n",
    "])\n",
    "\n",
    "atributos = preprocessador.fit_transform(atributo)\n",
    "\n",
    "# Get the names of the categorical columns\n",
    "categorical_columns = atributo.select_dtypes(include=object).columns\n",
    "\n",
    "# Create a DataFrame with the transformed data\n",
    "atributo = pd.DataFrame(atributos, columns=categorical_columns)\n",
    "\n",
    "# Display the DataFrame\n",
    "display(atributo)\n"
   ]
  },
  {
   "cell_type": "markdown",
   "metadata": {},
   "source": [
    "### Separando treino e teste"
   ]
  },
  {
   "cell_type": "code",
   "execution_count": null,
   "metadata": {},
   "outputs": [],
   "source": [
    "atributos = atributo.values\n",
    "resposta = resposta.values\n",
    "\n",
    "x_train, x_test, y_train, y_test = train_test_split(atributos, resposta, test_size=0.25, random_state=42)"
   ]
  },
  {
   "cell_type": "markdown",
   "metadata": {},
   "source": [
    "### PCA"
   ]
  },
  {
   "cell_type": "code",
   "execution_count": null,
   "metadata": {},
   "outputs": [],
   "source": [
    "# from sklearn.decomposition import PCA\n",
    "\n",
    "# pca = PCA(n_components=2)\n",
    "# pca.fit(x_train)\n",
    "# x_train_pca = pca.transform(x_train)\n",
    "# x_test_pca = pca.transform(x_test)"
   ]
  },
  {
   "cell_type": "markdown",
   "metadata": {},
   "source": [
    "### Oversampling"
   ]
  },
  {
   "cell_type": "code",
   "execution_count": null,
   "metadata": {},
   "outputs": [],
   "source": [
    "# smote = SMOTE()\n",
    "\n",
    "# x_train_over, y_train_over = smote.fit_resample(x_train, y_train)"
   ]
  },
  {
   "cell_type": "markdown",
   "metadata": {},
   "source": [
    "### Undersampling"
   ]
  },
  {
   "cell_type": "code",
   "execution_count": null,
   "metadata": {},
   "outputs": [],
   "source": [
    "from imblearn.under_sampling import RandomUnderSampler\n",
    "rus = RandomUnderSampler(random_state=42, sampling_strategy = 'majority')\n",
    "x_train_over, y_train_over = rus.fit_resample(x_train, y_train)\n",
    "display(x_train)\n",
    "display(y_train)\n"
   ]
  },
  {
   "cell_type": "markdown",
   "metadata": {},
   "source": [
    "## Modelo de Gaus"
   ]
  },
  {
   "cell_type": "markdown",
   "metadata": {},
   "source": [
    "### Modelo de Treinando a IA (Gaus)"
   ]
  },
  {
   "cell_type": "code",
   "execution_count": null,
   "metadata": {},
   "outputs": [],
   "source": [
    "classificador_bayes = GaussianNB()\n",
    "\n",
    "classificador_bayes.fit(x_train_over, y_train_over)\n",
    "classificacao = classificador_bayes.predict(x_test)"
   ]
  },
  {
   "cell_type": "markdown",
   "metadata": {},
   "source": [
    "### Metricas do modelo de Gaus"
   ]
  },
  {
   "cell_type": "code",
   "execution_count": null,
   "metadata": {},
   "outputs": [],
   "source": [
    "relatorio_gaus = classification_report(y_test, classificacao)\n",
    "print(relatorio_gaus)\n"
   ]
  },
  {
   "cell_type": "markdown",
   "metadata": {},
   "source": [
    "## Árvore de decisão"
   ]
  },
  {
   "cell_type": "markdown",
   "metadata": {},
   "source": [
    "### Treinando os modelos"
   ]
  },
  {
   "cell_type": "code",
   "execution_count": null,
   "metadata": {},
   "outputs": [],
   "source": [
    "\n",
    "# Classificação levando em consideração o gini\n",
    "classificador_gini = tree.DecisionTreeClassifier(criterion='gini')\n",
    "\n",
    "# Classificação levando em consideração a entropy\n",
    "classificador_entropy = tree.DecisionTreeClassifier(criterion='entropy')"
   ]
  },
  {
   "cell_type": "markdown",
   "metadata": {},
   "source": [
    "### Classificação"
   ]
  },
  {
   "cell_type": "code",
   "execution_count": null,
   "metadata": {},
   "outputs": [],
   "source": [
    "classificador_gini.fit(x_train_over, y_train_over)\n",
    "\n",
    "classificador_entropy.fit(x_train, y_train)"
   ]
  },
  {
   "cell_type": "markdown",
   "metadata": {},
   "source": [
    "### Plot das árvores"
   ]
  },
  {
   "cell_type": "code",
   "execution_count": null,
   "metadata": {},
   "outputs": [],
   "source": [
    "# import matplotlib.pyplot as plt\n",
    "\n",
    "# plt.figure(figsize=(30, 7))\n",
    "# tree.plot_tree(classificador_gini,\n",
    "#             feature_names=atributo.columns,\n",
    "#             class_names= classificador_gini.classes_,\n",
    "#             filled= True);\n",
    "\n",
    "# plt.figure(figsize=(30, 7))\n",
    "# tree.plot_tree(classificador_entropy,\n",
    "#             feature_names=atributo.columns,\n",
    "#             class_names= classificador_entropy.classes_,\n",
    "#             filled= True);"
   ]
  },
  {
   "cell_type": "markdown",
   "metadata": {},
   "source": [
    "### Predição"
   ]
  },
  {
   "cell_type": "code",
   "execution_count": null,
   "metadata": {},
   "outputs": [],
   "source": [
    "classificacao_gini = classificador_gini.predict(x_test)\n",
    "# print('Resposta: ', y_test)\n",
    "# print('Classificação feita para IA: ', classificacao_gini)\n",
    "\n",
    "classificacao_entropy = classificador_entropy.predict(x_test)\n",
    "# print('Resposta: ', y_test)\n",
    "# print('Classificação feita para IA: ', classificacao_entropy)\n",
    "\n",
    "matriz_de_confusao = confusion_matrix(y_test, classificacao_gini)\n",
    "print('Matriz de confusão gini: \\n\\n', matriz_de_confusao)\n",
    "\n",
    "matriz_de_confusao = confusion_matrix(y_test, classificacao_entropy)\n",
    "print('\\nMatriz de confusão entropia: \\n\\n', matriz_de_confusao)"
   ]
  },
  {
   "cell_type": "markdown",
   "metadata": {},
   "source": [
    "### Report"
   ]
  },
  {
   "cell_type": "code",
   "execution_count": null,
   "metadata": {},
   "outputs": [],
   "source": [
    "report_gini = classification_report(y_test, classificacao_gini)\n",
    "print(\"Reporte Gini: \\n\", report_gini)\n",
    "\n",
    "report_entropy = classification_report(y_test, classificacao_entropy)\n",
    "print(\"Reporte Entropy: \\n\", report_entropy)"
   ]
  },
  {
   "cell_type": "markdown",
   "metadata": {},
   "source": [
    "### Usando o GridSearchCV"
   ]
  },
  {
   "cell_type": "code",
   "execution_count": null,
   "metadata": {},
   "outputs": [],
   "source": [
    "parametros = {\n",
    "    'criterion': ['gini', 'entropy'],\n",
    "    'splitter': ['best', 'random'],\n",
    "    'max_depth': [None, 2, 4, 6, 8, 10],\n",
    "    'min_samples_split': [2, 5, 10],\n",
    "    'min_samples_leaf': [1, 2, 5, 10],\n",
    "    'max_features': [None, 'sqrt', 'log2']\n",
    "}\n",
    "classificador_tree = tree.DecisionTreeClassifier()\n",
    "grid = GridSearchCV(estimator=classificador_tree, param_grid=parametros, cv=5, verbose=3)\n",
    "grid.fit(x_train, y_train)\n",
    "\n",
    "print(\"Melhores hyperparameters: \", grid.best_params_)\n",
    "print(\"Melhor acuracia: \", grid.best_score_)"
   ]
  },
  {
   "cell_type": "code",
   "execution_count": null,
   "metadata": {},
   "outputs": [],
   "source": [
    "classificador_tree = tree.DecisionTreeClassifier(\n",
    "    criterion='gini',\n",
    "    max_depth=10,\n",
    "    min_samples_leaf=10,\n",
    "    min_samples_split=10,\n",
    "    splitter='best'\n",
    ")\n",
    "\n",
    "classificador_tree.fit(x_train_over, y_train_over)\n",
    "classificador_tree_predict = classificador_tree.predict(x_test)\n",
    "\n",
    "report_tree_best = classification_report(y_test, classificador_tree_predict)\n",
    "print(\"Report Best: \\n\", report_tree_best)"
   ]
  },
  {
   "cell_type": "markdown",
   "metadata": {},
   "source": [
    "## KNN"
   ]
  },
  {
   "cell_type": "markdown",
   "metadata": {},
   "source": [
    "### KNN"
   ]
  },
  {
   "cell_type": "code",
   "execution_count": null,
   "metadata": {},
   "outputs": [],
   "source": [
    "from sklearn.neighbors import KNeighborsClassifier\n",
    "\n",
    "\n",
    "knn = KNeighborsClassifier(n_neighbors=3)\n",
    "knn.fit(x_train_over, y_train_over)"
   ]
  },
  {
   "cell_type": "code",
   "execution_count": null,
   "metadata": {},
   "outputs": [],
   "source": [
    "knn_predict = knn.predict(x_test)\n",
    "\n",
    "report_knn = classification_report(y_test, knn_predict)\n",
    "print(\"Report KNN: \\n\", report_knn)"
   ]
  },
  {
   "cell_type": "code",
   "execution_count": null,
   "metadata": {},
   "outputs": [],
   "source": [
    "import numpy as np\n",
    "from sklearn.discriminant_analysis import StandardScaler\n",
    "from sklearn.model_selection import cross_val_score\n",
    "\n",
    "\n",
    "k_values = [i for i in range (1,31)]\n",
    "scores = []\n",
    "\n",
    "scaler = StandardScaler()\n",
    "X = scaler.fit_transform(atributo)\n",
    "\n",
    "for k in k_values:\n",
    "    knn = KNeighborsClassifier(n_neighbors=k)\n",
    "    score = cross_val_score(knn, X, resposta, cv=5)\n",
    "    scores.append(np.mean(score))"
   ]
  },
  {
   "cell_type": "code",
   "execution_count": null,
   "metadata": {},
   "outputs": [],
   "source": [
    "from matplotlib import pyplot as plt\n",
    "import seaborn as sns\n",
    "\n",
    "sns.lineplot(x = k_values, y = scores, marker = 'o')\n",
    "plt.xlabel(\"K Values\")\n",
    "plt.ylabel(\"Accuracy Score\")"
   ]
  },
  {
   "cell_type": "markdown",
   "metadata": {},
   "source": [
    "### "
   ]
  },
  {
   "cell_type": "markdown",
   "metadata": {},
   "source": [
    "## Serialização"
   ]
  },
  {
   "cell_type": "code",
   "execution_count": null,
   "metadata": {},
   "outputs": [],
   "source": [
    "# joblib.dump(melhor_classificador, \"delfis_modelo.pl1\")"
   ]
  },
  {
   "cell_type": "code",
   "execution_count": null,
   "metadata": {},
   "outputs": [],
   "source": [
    "# model_carregado = joblib.load(\"delfis_modelo.pl1\")"
   ]
  },
  {
   "cell_type": "code",
   "execution_count": null,
   "metadata": {},
   "outputs": [],
   "source": []
  }
 ],
 "metadata": {
  "kernelspec": {
   "display_name": "Python 3",
   "language": "python",
   "name": "python3"
  },
  "language_info": {
   "codemirror_mode": {
    "name": "ipython",
    "version": 3
   },
   "file_extension": ".py",
   "mimetype": "text/x-python",
   "name": "python",
   "nbconvert_exporter": "python",
   "pygments_lexer": "ipython3",
   "version": "3.11.2"
  }
 },
 "nbformat": 4,
 "nbformat_minor": 2
}
