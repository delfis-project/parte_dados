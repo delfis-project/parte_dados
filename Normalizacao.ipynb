{
 "cells": [
  {
   "cell_type": "code",
   "execution_count": 123,
   "metadata": {},
   "outputs": [],
   "source": [
    "import pandas as pd\n",
    "import psycopg2 as ps \n",
    "from sqlalchemy import create_engine\n",
    "from sklearn.preprocessing import LabelEncoder\n"
   ]
  },
  {
   "cell_type": "markdown",
   "metadata": {},
   "source": [
    "### Conexão com o banco de dados"
   ]
  },
  {
   "cell_type": "code",
   "execution_count": 124,
   "metadata": {},
   "outputs": [
    {
     "name": "stdout",
     "output_type": "stream",
     "text": [
      "Conexão com o banco de dados estabelecida com sucesso!\n",
      "Conexão fechada.\n"
     ]
    }
   ],
   "source": [
    "try:\n",
    "    dbname_extracao = \"defaultdb\"\n",
    "    user_extracao = \"avnadmin\"\n",
    "    host_extracao = \"pg-13f37248-germinare-629e.g.aivencloud.com\"\n",
    "    password_extracao = \"AVNS_aO3d1bNC3QQ01jidvM5\"\n",
    "    port_extracao = \"17444\"\n",
    "    \n",
    "    conn = ps.connect(\n",
    "        dbname=dbname_extracao,\n",
    "        user=user_extracao,\n",
    "        host=host_extracao,\n",
    "        password=password_extracao,\n",
    "        port=port_extracao\n",
    "    )\n",
    "    print(\"Conexão com o banco de dados estabelecida com sucesso!\")\n",
    "except ps.DatabaseError as e:\n",
    "    print(f\"Erro ao conectar com o banco de dados: {e}\")\n",
    "finally:\n",
    "    if 'conn' in locals():\n",
    "        conn.close()\n",
    "        print(\"Conexão fechada.\")"
   ]
  },
  {
   "cell_type": "markdown",
   "metadata": {},
   "source": [
    "### Extraindo dados do database do 1° ano"
   ]
  },
  {
   "cell_type": "code",
   "execution_count": 125,
   "metadata": {},
   "outputs": [
    {
     "name": "stderr",
     "output_type": "stream",
     "text": [
      "C:\\Users\\daviichihara-ieg\\AppData\\Local\\Temp\\ipykernel_36004\\1442900572.py:14: UserWarning: pandas only supports SQLAlchemy connectable (engine/connection) or database string URI or sqlite3 DBAPI2 connection. Other DBAPI2 objects are not tested. Please consider using SQLAlchemy.\n",
      "  df = pd.read_sql(\"SELECT * FROM Address\", conn)\n"
     ]
    },
    {
     "name": "stdout",
     "output_type": "stream",
     "text": [
      "        state         city        country\n",
      "0  California  Los Angeles  United States\n",
      "1       Texas      Houston  United States\n",
      "2     Ontario      Toronto         Canada\n",
      "3  Queensland     Brisbane      Australia\n",
      "4   São Paulo    São Paulo         Brazil\n"
     ]
    }
   ],
   "source": [
    "# Definindo os parametros para a conexão\n",
    "dbname_extracao = \"defaultdb\"\n",
    "user_extracao = \"avnadmin\"\n",
    "host_extracao = \"pg-13f37248-germinare-629e.g.aivencloud.com\"\n",
    "password_extracao = \"AVNS_aO3d1bNC3QQ01jidvM5\"\n",
    "port_extracao = \"17444\"\n",
    "    \n",
    "conn_params = ps.connect(\n",
    "    dbname=dbname_extracao,\n",
    "    user=user_extracao,\n",
    "    host=host_extracao,\n",
    "    password=password_extracao,\n",
    "    port=port_extracao\n",
    ")\n",
    "# Estabelecendo a conexão\n",
    "try:\n",
    "    conn = ps.connect(**conn_params)\n",
    "    # Lendo a tabela\n",
    "    df = pd.read_sql(\"SELECT * FROM Address\", conn)\n",
    "    #Print para teste\n",
    "    print(df.head())\n",
    "except Exception as e:\n",
    "    print(f\"Erro ao carregar dados: {e}\")\n",
    "finally:\n",
    "    #Fechando a conexão\n",
    "    conn.close()\n"
   ]
  },
  {
   "cell_type": "markdown",
   "metadata": {},
   "source": [
    "### Normalizando os dados"
   ]
  },
  {
   "cell_type": "code",
   "execution_count": 126,
   "metadata": {},
   "outputs": [],
   "source": [
    "for col in df.columns:\n",
    "    if df[col].dtype == 'object':\n",
    "        le = LabelEncoder()\n",
    "        df[col] = le.fit_transform(df[col])"
   ]
  },
  {
   "cell_type": "markdown",
   "metadata": {},
   "source": [
    "### Inserindo em outro banco de dados"
   ]
  },
  {
   "cell_type": "code",
   "execution_count": 127,
   "metadata": {},
   "outputs": [],
   "source": [
    "import pandas as pd\n",
    "import psycopg2\n",
    "from psycopg2 import sql\n",
    "\n",
    "dbname_insercao = \"dbtest2_tr63\"\n",
    "user_insercao = \"postgres123\"\n",
    "host_insercao = \"dpg-cr4a4hjv2p9s73cp3jdg-a.oregon-postgres.render.com\"\n",
    "password_insercao = \"nsut0Y7GaKyu5OgtcCRwnB007hfpIjdD\"\n",
    "port_insercao = \"5432\"\n",
    "\n",
    "conn_params = {\n",
    "    \"dbname\": dbname_insercao,\n",
    "    \"user\": user_insercao,\n",
    "    \"host\": host_insercao,\n",
    "    \"password\": password_insercao,\n",
    "    \"port\": port_insercao\n",
    "}\n",
    "\n",
    "# Connect to the PostgreSQL database\n",
    "conn = psycopg2.connect(**conn_params)\n",
    "cur = conn.cursor()\n",
    "\n",
    "insert_query = sql.SQL(\"INSERT INTO Address ({}) VALUES ({})\").format(\n",
    "    sql.SQL(', ').join(map(sql.Identifier, df.columns)),\n",
    "    sql.SQL(', ').join(sql.Placeholder() * len(df.columns))\n",
    ")\n",
    "\n",
    "# Insert rows one by one\n",
    "for index, row in df.iterrows():\n",
    "    cur.execute(insert_query, tuple(row))\n",
    "\n",
    "# Commit the transaction\n",
    "conn.commit()\n",
    "\n",
    "# Close the cursor and connection\n",
    "cur.close()\n",
    "conn.close()\n"
   ]
  },
  {
   "cell_type": "markdown",
   "metadata": {},
   "source": [
    "### Verificando a inserção dos dados"
   ]
  },
  {
   "cell_type": "code",
   "execution_count": 128,
   "metadata": {},
   "outputs": [
    {
     "name": "stderr",
     "output_type": "stream",
     "text": [
      "C:\\Users\\daviichihara-ieg\\AppData\\Local\\Temp\\ipykernel_36004\\2603437846.py:20: UserWarning: pandas only supports SQLAlchemy connectable (engine/connection) or database string URI or sqlite3 DBAPI2 connection. Other DBAPI2 objects are not tested. Please consider using SQLAlchemy.\n",
      "  df = pd.read_sql(\"SELECT * FROM Address\", conn)\n"
     ]
    },
    {
     "name": "stdout",
     "output_type": "stream",
     "text": [
      "   state  city  country\n",
      "0      1     3        8\n",
      "1      6     2        8\n",
      "2      3     9        2\n",
      "3      4     0        0\n",
      "4      5     7        1\n"
     ]
    }
   ],
   "source": [
    "# Definindo os parametros para a conexão\n",
    "dbname_insercao = \"dbtest2_tr63\"\n",
    "user_insercao = \"postgres123\"\n",
    "host_insercao = \"dpg-cr4a4hjv2p9s73cp3jdg-a.oregon-postgres.render.com\"\n",
    "password_insercao = \"nsut0Y7GaKyu5OgtcCRwnB007hfpIjdD\"\n",
    "port_insercao = \"5432\"\n",
    "\n",
    "conn_params = {\n",
    "    \"dbname\": dbname_insercao,\n",
    "    \"user\": user_insercao,\n",
    "    \"host\": host_insercao,\n",
    "    \"password\": password_insercao,\n",
    "    \"port\": port_insercao\n",
    "}\n",
    "\n",
    "# Estabelecendo a conexão\n",
    "try:\n",
    "    conn = ps.connect(**conn_params)\n",
    "    # Lendo a tabela\n",
    "    df = pd.read_sql(\"SELECT * FROM Address\", conn)\n",
    "    #Print para teste\n",
    "    print(df.head())\n",
    "except Exception as e:\n",
    "    print(f\"Erro ao carregar dados: {e}\")\n",
    "finally:\n",
    "    #Fechando a conexão\n",
    "    conn.close()\n"
   ]
  }
 ],
 "metadata": {
  "kernelspec": {
   "display_name": "Python 3",
   "language": "python",
   "name": "python3"
  },
  "language_info": {
   "codemirror_mode": {
    "name": "ipython",
    "version": 3
   },
   "file_extension": ".py",
   "mimetype": "text/x-python",
   "name": "python",
   "nbconvert_exporter": "python",
   "pygments_lexer": "ipython3",
   "version": "3.11.2"
  }
 },
 "nbformat": 4,
 "nbformat_minor": 2
}
